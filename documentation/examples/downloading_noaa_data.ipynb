{
 "cells": [
  {
   "cell_type": "code",
   "execution_count": 1,
   "metadata": {},
   "outputs": [],
   "source": [
    "import datetime\n",
    "\n",
    "import boto3\n",
    "\n",
    "from wildfire.goes import downloader"
   ]
  },
  {
   "cell_type": "markdown",
   "metadata": {},
   "source": [
    "## Download single scan"
   ]
  },
  {
   "cell_type": "code",
   "execution_count": 2,
   "metadata": {},
   "outputs": [],
   "source": [
    "scan_fp = downloader.persist_s3(\n",
    "    s3_bucket=\"noaa-goes16\", \n",
    "    s3_key=\"ABI-L1b-RadM/2019/050/07/OR_ABI-L1b-RadM1-M3C01_G16_s20190500705208_e20190500705266_c20190500705307.nc\",\n",
    "    local_directory=\"./output/\"\n",
    ")"
   ]
  },
  {
   "cell_type": "markdown",
   "metadata": {},
   "source": [
    "## Download batch of scans"
   ]
  },
  {
   "cell_type": "code",
   "execution_count": 3,
   "metadata": {},
   "outputs": [
    {
     "name": "stderr",
     "output_type": "stream",
     "text": [
      "Regions:   0%|          | 0/2 [00:00<?, ?it/s]\n",
      "Hours:   0%|          | 0/1 [00:00<?, ?it/s]\u001b[A\n",
      "Hours: 100%|██████████| 1/1 [00:02<00:00,  2.13s/it]\n",
      "Regions:  50%|█████     | 1/2 [00:02<00:02,  2.13s/it]\n",
      "Hours:   0%|          | 0/1 [00:00<?, ?it/s]\u001b[A\n",
      "Hours: 100%|██████████| 1/1 [00:00<00:00,  4.91it/s]\n",
      "Regions: 100%|██████████| 2/2 [00:02<00:00,  1.17s/it]"
     ]
    },
    {
     "name": "stdout",
     "output_type": "stream",
     "text": [
      "[s3.ObjectSummary(bucket_name='noaa-goes17', key='ABI-L1b-RadM/2019/001/01/OR_ABI-L1b-RadM1-M3C07_G17_s20190010101270_e20190010101338_c20190010101359.nc'), s3.ObjectSummary(bucket_name='noaa-goes17', key='ABI-L1b-RadM/2019/001/01/OR_ABI-L1b-RadM1-M3C07_G17_s20190010102270_e20190010102338_c20190010102358.nc'), s3.ObjectSummary(bucket_name='noaa-goes17', key='ABI-L1b-RadM/2019/001/01/OR_ABI-L1b-RadM1-M3C07_G17_s20190010103270_e20190010103338_c20190010103358.nc'), s3.ObjectSummary(bucket_name='noaa-goes17', key='ABI-L1b-RadM/2019/001/01/OR_ABI-L1b-RadM1-M3C09_G17_s20190010101270_e20190010101332_c20190010101360.nc'), s3.ObjectSummary(bucket_name='noaa-goes17', key='ABI-L1b-RadM/2019/001/01/OR_ABI-L1b-RadM1-M3C09_G17_s20190010102270_e20190010102333_c20190010102359.nc'), s3.ObjectSummary(bucket_name='noaa-goes17', key='ABI-L1b-RadM/2019/001/01/OR_ABI-L1b-RadM1-M3C09_G17_s20190010103270_e20190010103333_c20190010103358.nc'), s3.ObjectSummary(bucket_name='noaa-goes17', key='ABI-L1b-RadC/2019/001/01/OR_ABI-L1b-RadC-M3C07_G17_s20190010102190_e20190010104574_c20190010105001.nc'), s3.ObjectSummary(bucket_name='noaa-goes17', key='ABI-L1b-RadC/2019/001/01/OR_ABI-L1b-RadC-M3C09_G17_s20190010102190_e20190010104569_c20190010105004.nc')]\n"
     ]
    },
    {
     "name": "stderr",
     "output_type": "stream",
     "text": [
      "\n"
     ]
    }
   ],
   "source": [
    "# let's get all scans matching the parameters:\n",
    "#     satellite = GOES 17\n",
    "#     regions = Mesoscale 1 and CONUS\n",
    "#     channels = Bands 7 and 9\n",
    "#     start = January 1, 2019 1:01 AM UTC\n",
    "#     end = January 1, 2019 1:03 AM UTC\n",
    "\n",
    "scans = downloader.query_s3(\n",
    "    satellite=\"noaa-goes17\", \n",
    "    regions=[\"M1\", \"C\"], \n",
    "    channels=[7, 9], \n",
    "    start=datetime.datetime(2019, 1, 1, 1, 1), \n",
    "    end=datetime.datetime(2019, 1, 1, 1, 3, 59)\n",
    ")\n",
    "\n",
    "print(scans)"
   ]
  },
  {
   "cell_type": "code",
   "execution_count": 4,
   "metadata": {},
   "outputs": [
    {
     "data": {
      "text/plain": [
       "['./output/noaa-goes17/ABI-L1b-RadM/2019/001/01/OR_ABI-L1b-RadM1-M3C07_G17_s20190010101270_e20190010101338_c20190010101359.nc',\n",
       " './output/noaa-goes17/ABI-L1b-RadM/2019/001/01/OR_ABI-L1b-RadM1-M3C07_G17_s20190010102270_e20190010102338_c20190010102358.nc',\n",
       " './output/noaa-goes17/ABI-L1b-RadM/2019/001/01/OR_ABI-L1b-RadM1-M3C07_G17_s20190010103270_e20190010103338_c20190010103358.nc',\n",
       " './output/noaa-goes17/ABI-L1b-RadM/2019/001/01/OR_ABI-L1b-RadM1-M3C09_G17_s20190010101270_e20190010101332_c20190010101360.nc',\n",
       " './output/noaa-goes17/ABI-L1b-RadM/2019/001/01/OR_ABI-L1b-RadM1-M3C09_G17_s20190010102270_e20190010102333_c20190010102359.nc',\n",
       " './output/noaa-goes17/ABI-L1b-RadM/2019/001/01/OR_ABI-L1b-RadM1-M3C09_G17_s20190010103270_e20190010103333_c20190010103358.nc',\n",
       " './output/noaa-goes17/ABI-L1b-RadC/2019/001/01/OR_ABI-L1b-RadC-M3C07_G17_s20190010102190_e20190010104574_c20190010105001.nc',\n",
       " './output/noaa-goes17/ABI-L1b-RadC/2019/001/01/OR_ABI-L1b-RadC-M3C09_G17_s20190010102190_e20190010104569_c20190010105004.nc']"
      ]
     },
     "execution_count": 4,
     "metadata": {},
     "output_type": "execute_result"
    }
   ],
   "source": [
    "downloader.download_batch(s3_object_summaries=scans, local_directory=\"./output/\")"
   ]
  }
 ],
 "metadata": {
  "kernelspec": {
   "display_name": "wildfire3.6",
   "language": "python",
   "name": "wildfire3_6"
  },
  "language_info": {
   "codemirror_mode": {
    "name": "ipython",
    "version": 3
   },
   "file_extension": ".py",
   "mimetype": "text/x-python",
   "name": "python",
   "nbconvert_exporter": "python",
   "pygments_lexer": "ipython3",
   "version": "3.6.9"
  }
 },
 "nbformat": 4,
 "nbformat_minor": 2
}
