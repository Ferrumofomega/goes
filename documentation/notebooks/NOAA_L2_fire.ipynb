{
 "cells": [
  {
   "cell_type": "markdown",
   "metadata": {},
   "source": [
    "## Explore NOAA L2b Wildfire Product (ABI-L2-FDCF)"
   ]
  },
  {
   "cell_type": "code",
   "execution_count": 1,
   "metadata": {},
   "outputs": [],
   "source": [
    "import xarray as xr\n",
    "import matplotlib.pyplot as plt\n",
    "import numpy as np\n",
    "import os, sys\n",
    "import datetime \n",
    "\n",
    "from wildfire.data import goes_level_1"
   ]
  },
  {
   "cell_type": "code",
   "execution_count": null,
   "metadata": {},
   "outputs": [],
   "source": [
    "import glob"
   ]
  },
  {
   "cell_type": "code",
   "execution_count": 3,
   "metadata": {},
   "outputs": [],
   "source": [
    "\n",
    "scan = goes_level_1.read_netcdfs(glob.glob(\"./ABI-L1b-RadF/*/*/*/*.nc\"))"
   ]
  },
  {
   "cell_type": "code",
   "execution_count": null,
   "metadata": {},
   "outputs": [],
   "source": []
  },
  {
   "cell_type": "code",
   "execution_count": null,
   "metadata": {},
   "outputs": [],
   "source": []
  },
  {
   "cell_type": "code",
   "execution_count": null,
   "metadata": {},
   "outputs": [],
   "source": []
  },
  {
   "cell_type": "code",
   "execution_count": null,
   "metadata": {},
   "outputs": [],
   "source": []
  },
  {
   "cell_type": "code",
   "execution_count": null,
   "metadata": {},
   "outputs": [],
   "source": []
  },
  {
   "cell_type": "code",
   "execution_count": null,
   "metadata": {},
   "outputs": [],
   "source": []
  },
  {
   "cell_type": "code",
   "execution_count": null,
   "metadata": {},
   "outputs": [],
   "source": []
  },
  {
   "cell_type": "code",
   "execution_count": null,
   "metadata": {},
   "outputs": [],
   "source": [
    "xr.concat(r)"
   ]
  },
  {
   "cell_type": "code",
   "execution_count": null,
   "metadata": {},
   "outputs": [],
   "source": [
    "cced = scan.concatenatecatenate()"
   ]
  },
  {
   "cell_type": "code",
   "execution_count": 8,
   "metadata": {},
   "outputs": [
    {
     "name": "stderr",
     "output_type": "stream",
     "text": [
      "/Users/camen/miniconda/envs/wildfire3.7/lib/python3.7/site-packages/xarray/core/computation.py:603: RuntimeWarning: invalid value encountered in log\n",
      "  result_data = func(*input_data)\n"
     ]
    }
   ],
   "source": [
    "band16 = scan[\"band_16\"]\n",
    "rads = []\n",
    "\n",
    "x_2km = band16.dataset.x.values\n",
    "y_2km = band16.dataset.y.values\n",
    "\n",
    "for _, band in scan.iteritems():\n",
    "    rads.append(band.normalize().assign_coords(x=x_2km, y=y_2km))\n",
    "    rads[-1] = rads[-1]"
   ]
  },
  {
   "cell_type": "code",
   "execution_count": 3,
   "metadata": {},
   "outputs": [
    {
     "data": {
      "text/plain": [
       "<xarray.Dataset>\n",
       "Dimensions:                                           (number_of_LZA_bounds: 2, number_of_SZA_bounds: 2, number_of_image_bounds: 2, number_of_sunglint_angle_bounds: 2, number_of_time_bounds: 2, x: 2500, y: 1500)\n",
       "Coordinates:\n",
       "    t                                                 datetime64[ns] ...\n",
       "  * y                                                 (y) float32 0.128212 ... 0.044268005\n",
       "  * x                                                 (x) float32 -0.101332 ... 0.038612\n",
       "    y_image                                           float32 ...\n",
       "    x_image                                           float32 ...\n",
       "    sunglint_angle                                    float32 ...\n",
       "    local_zenith_angle                                float32 ...\n",
       "    solar_zenith_angle                                float32 ...\n",
       "Dimensions without coordinates: number_of_LZA_bounds, number_of_SZA_bounds, number_of_image_bounds, number_of_sunglint_angle_bounds, number_of_time_bounds\n",
       "Data variables:\n",
       "    Area                                              (y, x) float32 ...\n",
       "    Temp                                              (y, x) float32 ...\n",
       "    Mask                                              (y, x) float32 ...\n",
       "    Power                                             (y, x) float32 ...\n",
       "    DQF                                               (y, x) float32 ...\n",
       "    time_bounds                                       (number_of_time_bounds) datetime64[ns] ...\n",
       "    goes_imager_projection                            int32 ...\n",
       "    y_image_bounds                                    (number_of_image_bounds) float32 ...\n",
       "    x_image_bounds                                    (number_of_image_bounds) float32 ...\n",
       "    nominal_satellite_subpoint_lat                    float32 ...\n",
       "    nominal_satellite_subpoint_lon                    float32 ...\n",
       "    nominal_satellite_height                          float32 ...\n",
       "    geospatial_lat_lon_extent                         float32 ...\n",
       "    sunglint_angle_bounds                             (number_of_sunglint_angle_bounds) float32 ...\n",
       "    local_zenith_angle_bounds                         (number_of_LZA_bounds) float32 ...\n",
       "    solar_zenith_angle_bounds                         (number_of_SZA_bounds) float32 ...\n",
       "    total_number_of_pixels_with_fires_detected        float64 ...\n",
       "    total_number_of_pixels_with_fire_temperature      float64 ...\n",
       "    total_number_of_pixels_with_fire_area             float64 ...\n",
       "    total_number_of_pixels_with_fire_radiative_power  float64 ...\n",
       "    fire_temperature_outlier_pixel_count              float64 ...\n",
       "    fire_area_outlier_pixel_count                     float64 ...\n",
       "    fire_radiative_power_outlier_pixel_count          float64 ...\n",
       "    minimum_fire_temperature                          float32 ...\n",
       "    maximum_fire_temperature                          float32 ...\n",
       "    mean_fire_temperature                             float32 ...\n",
       "    standard_deviation_fire_temperature               float32 ...\n",
       "    minimum_fire_area                                 float32 ...\n",
       "    maximum_fire_area                                 float32 ...\n",
       "    mean_fire_area                                    float32 ...\n",
       "    standard_deviation_fire_area                      float32 ...\n",
       "    minimum_fire_radiative_power                      float32 ...\n",
       "    maximum_fire_radiative_power                      float32 ...\n",
       "    mean_fire_radiative_power                         float32 ...\n",
       "    standard_deviation_fire_radiative_power           float32 ...\n",
       "    algorithm_dynamic_input_data_container            int32 ...\n",
       "    processing_parm_version_container                 int32 ...\n",
       "    algorithm_product_version_container               int32 ...\n",
       "    percent_uncorrectable_GRB_errors                  float32 ...\n",
       "    percent_uncorrectable_L0_errors                   float32 ...\n",
       "Attributes:\n",
       "    naming_authority:          gov.nesdis.noaa\n",
       "    Conventions:               CF-1.7\n",
       "    Metadata_Conventions:      Unidata Dataset Discovery v1.0\n",
       "    standard_name_vocabulary:  CF Standard Name Table (v35, 20 July 2016)\n",
       "    institution:               DOC/NOAA/NESDIS > U.S. Department of Commerce,...\n",
       "    project:                   GOES\n",
       "    production_site:           NSOF\n",
       "    production_environment:    OE\n",
       "    spatial_resolution:        2km at nadir\n",
       "    orbital_slot:              GOES-East\n",
       "    platform_ID:               G16\n",
       "    instrument_type:           GOES R Series Advanced Baseline Imager\n",
       "    scene_id:                  CONUS\n",
       "    instrument_ID:             FM1\n",
       "    dataset_name:              OR_ABI-L2-FDCC-M6_G16_s20200040316182_e2020004...\n",
       "    iso_series_metadata_id:    b015d6f0-b002-11e1-afa6-0800200c9a66\n",
       "    title:                     ABI L2 Fire - Hot Spot Characterization\n",
       "    summary:                   The Fire - Hot Spot Characterization product c...\n",
       "    keywords:                  HUMAN DIMENSIONS > NATURAL HAZARDS > FIRES \n",
       "    keywords_vocabulary:       NASA Global Change Master Directory (GCMD) Ear...\n",
       "    license:                   Unclassified data.  Access is restricted to ap...\n",
       "    processing_level:          National Aeronautics and Space Administration ...\n",
       "    date_created:              2020-01-04T03:19:25.2Z\n",
       "    cdm_data_type:             Image\n",
       "    time_coverage_start:       2020-01-04T03:16:18.2Z\n",
       "    time_coverage_end:         2020-01-04T03:18:55.4Z\n",
       "    timeline_id:               ABI Mode 6\n",
       "    production_data_source:    Realtime\n",
       "    id:                        b0a7366e-5220-4492-b526-ff73d63ed587"
      ]
     },
     "execution_count": 3,
     "metadata": {},
     "output_type": "execute_result"
    }
   ],
   "source": [
    "ds"
   ]
  },
  {
   "cell_type": "markdown",
   "metadata": {},
   "source": [
    "### Read L2 File"
   ]
  },
  {
   "cell_type": "code",
   "execution_count": 21,
   "metadata": {},
   "outputs": [
    {
     "name": "stdout",
     "output_type": "stream",
     "text": [
      "The Fire - Hot Spot Characterization product consists of a fire mask identifying pixels as one of many fire, non-fire, and obstructed view categories. In addition, the product consists of fire temperature,radiative power, and area for valid fire pixels that satisfy specific criteria. This product is generated by utilizing differences in emissive bands with wavelengths 3.89 and 11.19 um to high temperature sub pixel anomalies. Product data is generated both day and night.\n",
      "Number of fires: 1701.0\n"
     ]
    }
   ],
   "source": [
    "year = 2019\n",
    "dayofyear = 260\n",
    "hour = 19\n",
    "\n",
    "l2_path = f'/nobackupp10/tvandal/data/goes16/ABI-L2-FDCF/{year}/{dayofyear}/{hour}/'\n",
    "\n",
    "l2_file_path = os.path.join(l2_path, sorted(os.listdir(l2_path))[0])\n",
    "\n",
    "ds = xr.open_dataset(l2_file_path)\n",
    "print(ds.attrs['summary'])\n",
    "print(f\"Number of fires: {ds['total_number_of_pixels_with_fires_detected'].values}\")"
   ]
  },
  {
   "cell_type": "code",
   "execution_count": 22,
   "metadata": {},
   "outputs": [
    {
     "data": {
      "text/plain": [
       "<xarray.Dataset>\n",
       "Dimensions:                                           (number_of_LZA_bounds: 2, number_of_SZA_bounds: 2, number_of_image_bounds: 2, number_of_sunglint_angle_bounds: 2, number_of_time_bounds: 2, x: 5424, y: 5424)\n",
       "Coordinates:\n",
       "    t                                                 datetime64[ns] ...\n",
       "  * y                                                 (y) float32 0.151844 ... -0.151844\n",
       "  * x                                                 (x) float32 -0.151844 ... 0.151844\n",
       "    y_image                                           float32 ...\n",
       "    x_image                                           float32 ...\n",
       "    sunglint_angle                                    float32 ...\n",
       "    local_zenith_angle                                float32 ...\n",
       "    solar_zenith_angle                                float32 ...\n",
       "Dimensions without coordinates: number_of_LZA_bounds, number_of_SZA_bounds, number_of_image_bounds, number_of_sunglint_angle_bounds, number_of_time_bounds\n",
       "Data variables:\n",
       "    Area                                              (y, x) float32 ...\n",
       "    Temp                                              (y, x) float32 ...\n",
       "    Mask                                              (y, x) float32 ...\n",
       "    Power                                             (y, x) float32 ...\n",
       "    DQF                                               (y, x) float32 ...\n",
       "    time_bounds                                       (number_of_time_bounds) datetime64[ns] ...\n",
       "    goes_imager_projection                            int32 ...\n",
       "    y_image_bounds                                    (number_of_image_bounds) float32 ...\n",
       "    x_image_bounds                                    (number_of_image_bounds) float32 ...\n",
       "    nominal_satellite_subpoint_lat                    float32 ...\n",
       "    nominal_satellite_subpoint_lon                    float32 ...\n",
       "    nominal_satellite_height                          float32 ...\n",
       "    geospatial_lat_lon_extent                         float32 ...\n",
       "    sunglint_angle_bounds                             (number_of_sunglint_angle_bounds) float32 ...\n",
       "    local_zenith_angle_bounds                         (number_of_LZA_bounds) float32 ...\n",
       "    solar_zenith_angle_bounds                         (number_of_SZA_bounds) float32 ...\n",
       "    total_number_of_pixels_with_fires_detected        float64 1.701e+03\n",
       "    total_number_of_pixels_with_fire_temperature      float64 ...\n",
       "    total_number_of_pixels_with_fire_area             float64 ...\n",
       "    total_number_of_pixels_with_fire_radiative_power  float64 ...\n",
       "    fire_temperature_outlier_pixel_count              float64 ...\n",
       "    fire_area_outlier_pixel_count                     float64 ...\n",
       "    fire_radiative_power_outlier_pixel_count          float64 ...\n",
       "    minimum_fire_temperature                          float32 ...\n",
       "    maximum_fire_temperature                          float32 ...\n",
       "    mean_fire_temperature                             float32 ...\n",
       "    standard_deviation_fire_temperature               float32 ...\n",
       "    minimum_fire_area                                 float32 ...\n",
       "    maximum_fire_area                                 float32 ...\n",
       "    mean_fire_area                                    float32 ...\n",
       "    standard_deviation_fire_area                      float32 ...\n",
       "    minimum_fire_radiative_power                      float32 ...\n",
       "    maximum_fire_radiative_power                      float32 ...\n",
       "    mean_fire_radiative_power                         float32 ...\n",
       "    standard_deviation_fire_radiative_power           float32 ...\n",
       "    algorithm_dynamic_input_data_container            int32 ...\n",
       "    processing_parm_version_container                 int32 ...\n",
       "    algorithm_product_version_container               int32 ...\n",
       "    percent_uncorrectable_GRB_errors                  float32 ...\n",
       "    percent_uncorrectable_L0_errors                   float32 ...\n",
       "Attributes:\n",
       "    naming_authority:          gov.nesdis.noaa\n",
       "    Conventions:               CF-1.7\n",
       "    Metadata_Conventions:      Unidata Dataset Discovery v1.0\n",
       "    standard_name_vocabulary:  CF Standard Name Table (v35, 20 July 2016)\n",
       "    institution:               DOC/NOAA/NESDIS > U.S. Department of Commerce,...\n",
       "    project:                   GOES\n",
       "    production_site:           NSOF\n",
       "    production_environment:    OE\n",
       "    spatial_resolution:        2km at nadir\n",
       "    orbital_slot:              GOES-East\n",
       "    platform_ID:               G16\n",
       "    instrument_type:           GOES R Series Advanced Baseline Imager\n",
       "    scene_id:                  Full Disk\n",
       "    instrument_ID:             FM1\n",
       "    dataset_name:              OR_ABI-L2-FDCF-M6_G16_s20192601900186_e2019260...\n",
       "    iso_series_metadata_id:    b015d6f0-b002-11e1-afa6-0800200c9a66\n",
       "    title:                     ABI L2 Fire - Hot Spot Characterization\n",
       "    summary:                   The Fire - Hot Spot Characterization product c...\n",
       "    keywords:                  HUMAN DIMENSIONS > NATURAL HAZARDS > FIRES \n",
       "    keywords_vocabulary:       NASA Global Change Master Directory (GCMD) Ear...\n",
       "    license:                   Unclassified data.  Access is restricted to ap...\n",
       "    processing_level:          National Aeronautics and Space Administration ...\n",
       "    date_created:              2019-09-17T19:10:01.5Z\n",
       "    cdm_data_type:             Image\n",
       "    time_coverage_start:       2019-09-17T19:00:18.6Z\n",
       "    time_coverage_end:         2019-09-17T19:09:49.4Z\n",
       "    timeline_id:               ABI Mode 6\n",
       "    production_data_source:    Realtime\n",
       "    id:                        402a3af3-e778-4ea6-b396-dc61550f6386"
      ]
     },
     "execution_count": 22,
     "metadata": {},
     "output_type": "execute_result"
    }
   ],
   "source": [
    "ds"
   ]
  },
  {
   "cell_type": "code",
   "execution_count": 23,
   "metadata": {},
   "outputs": [],
   "source": [
    "def extract_patches_2d(arr, height, width, stride):\n",
    "    assert len(arr.shape) >= 2\n",
    "    H, W = arr.shape[:2]\n",
    "    ih = np.arange(0,H,stride)\n",
    "    iw = np.arange(0,W,stride)\n",
    "    patches = []\n",
    "    for i in ih:\n",
    "        i = min(i, H-height)\n",
    "        for j in iw:\n",
    "            j = min(j, W-width)\n",
    "            patches.append(arr[i:i+height, j:j+height][np.newaxis])\n",
    "    return np.concatenate(patches)"
   ]
  },
  {
   "cell_type": "markdown",
   "metadata": {},
   "source": [
    "### Histogram of Fire Temperatures and Random Wildfire Plot"
   ]
  },
  {
   "cell_type": "code",
   "execution_count": 24,
   "metadata": {},
   "outputs": [
    {
     "name": "stdout",
     "output_type": "stream",
     "text": [
      "(array([431, 326, 106,  43,  22,  13,   3,   1,   0,   2]), array([ 400.49442,  575.7589 ,  751.0234 ,  926.28784, 1101.5524 ,\n",
      "       1276.8168 , 1452.0813 , 1627.3457 , 1802.6102 , 1977.8746 ,\n",
      "       2153.1392 ], dtype=float32))\n",
      "(542, 16, 16)\n"
     ]
    },
    {
     "data": {
      "text/plain": [
       "<matplotlib.image.AxesImage at 0x2aaae71d81d0>"
      ]
     },
     "execution_count": 24,
     "metadata": {},
     "output_type": "execute_result"
    },
    {
     "data": {
      "image/png": "[encoded data removed]",
      "text/plain": [
       "<Figure size 432x288 with 1 Axes>"
      ]
     },
     "metadata": {
      "needs_background": "light"
     },
     "output_type": "display_data"
    }
   ],
   "source": [
    "vals = ds.Temp.values\n",
    "vmin = np.nanmin(vals)\n",
    "vmax = np.nanmax(vals)\n",
    "vals_flat = vals.flatten()\n",
    "vals_flat = vals_flat[np.isfinite(vals_flat)]\n",
    "print(np.histogram(vals_flat))\n",
    "\n",
    "patches = extract_patches_2d(vals, 16, 16, 16)\n",
    "fire_patches = patches[np.any(np.isfinite(patches), axis=(1,2))]\n",
    "print(fire_patches.shape)\n",
    "i = np.random.randint(0, len(fire_patches))\n",
    "plt.imshow(fire_patches[i])"
   ]
  },
  {
   "cell_type": "markdown",
   "metadata": {},
   "source": [
    "### Read in L1b Radiances"
   ]
  },
  {
   "cell_type": "code",
   "execution_count": 26,
   "metadata": {},
   "outputs": [],
   "source": [
    "# load scan and get wildfire map\n",
    "#\n",
    "l1_dir = f'/nex/datapool/geonex/public/GOES16/NOAA-L1B/ABI-L1b-RadF/{year}/{dayofyear}/{hour}/'\n",
    "files = [os.path.join(l1_dir, f) for f in sorted(os.listdir(l1_dir))]\n",
    "filepaths = utilities.group_filepaths_into_scans(files)\n",
    "goes_scan = scan.read_netcdfs(local_filepaths=filepaths[0])"
   ]
  },
  {
   "cell_type": "code",
   "execution_count": 27,
   "metadata": {},
   "outputs": [],
   "source": [
    "goes_scan_2km = goes_scan.rescale_to_2km() # this method is misnamed in scan.py\n",
    "datasets = []\n",
    "band16 = goes_scan_2km['band_16']\n",
    "for band, s in goes_scan_2km.iteritems():\n",
    "    d = s.dataset\n",
    "    d = d.assign_coords(x=band16.dataset.x.values,\n",
    "                        y=band16.dataset.y.values)\n",
    "    datasets.append(d['Rad'])\n",
    "    \n",
    "l1ds = xr.concat(datasets, 'band')"
   ]
  },
  {
   "cell_type": "markdown",
   "metadata": {},
   "source": [
    "### Join L1b and L2 Fire Data and Extract Patches"
   ]
  },
  {
   "cell_type": "code",
   "execution_count": 28,
   "metadata": {},
   "outputs": [
    {
     "name": "stdout",
     "output_type": "stream",
     "text": [
      "(114921, 16, 16, 17)\n"
     ]
    },
    {
     "data": {
      "text/plain": [
       "(542, 16, 16, 17)"
      ]
     },
     "execution_count": 28,
     "metadata": {},
     "output_type": "execute_result"
    }
   ],
   "source": [
    "alldata = np.concatenate([l1ds.values, ds.Temp.values[np.newaxis]], 0)\n",
    "alldata = np.transpose(alldata, (1,2,0))\n",
    "alldata_patches = extract_patches_2d(alldata, 16, 16, 16)\n",
    "print(alldata_patches.shape)\n",
    "\n",
    "fire_idxs = np.any(np.isfinite(alldata_patches[:,:,:,-1]), axis=(1,2))\n",
    "alldata_fire_patches = alldata_patches[fire_idxs]\n",
    "alldata_fire_patches.shape"
   ]
  },
  {
   "cell_type": "markdown",
   "metadata": {},
   "source": [
    "### Show RGB, Band 15 Temp, and L2 Fire Temp"
   ]
  },
  {
   "cell_type": "code",
   "execution_count": 29,
   "metadata": {},
   "outputs": [
    {
     "data": {
      "text/plain": [
       "Text(0.5, 1.0, 'Band 15 - Brightness Temp')"
      ]
     },
     "execution_count": 29,
     "metadata": {},
     "output_type": "execute_result"
    },
    {
     "data": {
      "image/png": "[encoded data removed]",
      "text/plain": [
       "<Figure size 864x360 with 3 Axes>"
      ]
     },
     "metadata": {
      "needs_background": "light"
     },
     "output_type": "display_data"
    }
   ],
   "source": [
    "#i = np.random.randint(0, len(alldata_fire_patches))\n",
    "i = 212\n",
    "\n",
    "fig, axs = plt.subplots(1,3,figsize=(12,5))\n",
    "axs = np.ravel(axs)\n",
    "#[a.axis('off') for a in axs]\n",
    "\n",
    "axs[2].imshow(alldata_fire_patches[i,:,:,-1])\n",
    "axs[2].set_title(\"NOAA L2b Fire Temperature\")\n",
    "\n",
    "rgb = alldata_fire_patches[i,:,:,[1,2,0]]\n",
    "rgb = np.transpose(rgb, (1,2,0))\n",
    "mn = np.nanmin(rgb)\n",
    "mx = np.nanmax(rgb)\n",
    "rgb = (rgb - mn) / (mx - mn)\n",
    "axs[0].imshow(rgb)\n",
    "axs[0].set_title(\"False Color RGB\")\n",
    "\n",
    "axs[1].imshow(alldata_fire_patches[i,:,:,14])\n",
    "axs[1].set_title(\"Band 15 - Brightness Temp\")"
   ]
  },
  {
   "cell_type": "code",
   "execution_count": null,
   "metadata": {},
   "outputs": [],
   "source": []
  }
 ],
 "metadata": {
  "kernelspec": {
   "display_name": "wildfire3.7",
   "language": "python",
   "name": "wildfire3_7"
  },
  "language_info": {
   "codemirror_mode": {
    "name": "ipython",
    "version": 3
   },
   "file_extension": ".py",
   "mimetype": "text/x-python",
   "name": "python",
   "nbconvert_exporter": "python",
   "pygments_lexer": "ipython3",
   "version": "3.7.7"
  }
 },
 "nbformat": 4,
 "nbformat_minor": 4
}
