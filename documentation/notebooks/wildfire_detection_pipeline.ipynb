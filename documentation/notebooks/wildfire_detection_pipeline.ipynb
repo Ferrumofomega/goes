{
 "cells": [
  {
   "cell_type": "markdown",
   "metadata": {},
   "source": [
    "# Wildfire Detection Pipeline"
   ]
  },
  {
   "cell_type": "code",
   "execution_count": 2,
   "metadata": {},
   "outputs": [],
   "source": [
    "import datetime\n",
    "\n",
    "from wildfire import goes, threshold_model\n",
    "\n",
    "LOCAL_DIRECTORY = \"/nex/datapool/goes16\"  # change if not on NEX\n",
    "SATELLITE = \"noaa-goes17\"\n",
    "REGION = \"M1\"\n",
    "START_TIME = datetime.datetime(2018, 7, 1)\n",
    "END_TIME = datetime.datetime(2019, 7, 2)"
   ]
  },
  {
   "cell_type": "code",
   "execution_count": null,
   "metadata": {},
   "outputs": [],
   "source": [
    "# uncomment, if need to download data\n",
    "\n",
    "LOCAL_DIRECTORY = \"/Users/camen/Desktop/goes_data\"\n",
    "\n",
    "local_filepaths = goes.downloader.download_files(\n",
    "    \n",
    ")"
   ]
  }
 ],
 "metadata": {
  "kernelspec": {
   "display_name": "wildfire3.7",
   "language": "python",
   "name": "wildfire3_7"
  },
  "language_info": {
   "codemirror_mode": {
    "name": "ipython",
    "version": 3
   },
   "file_extension": ".py",
   "mimetype": "text/x-python",
   "name": "python",
   "nbconvert_exporter": "python",
   "pygments_lexer": "ipython3",
   "version": "3.7.6"
  }
 },
 "nbformat": 4,
 "nbformat_minor": 2
}
