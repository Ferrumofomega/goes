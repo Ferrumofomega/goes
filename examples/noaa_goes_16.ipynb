{
 "cells": [
  {
   "cell_type": "markdown",
   "metadata": {},
   "source": [
    "# NOAA GOES 16 Satellite Data\n",
    "\n",
    "last run: Nov 16, 2019"
   ]
  },
  {
   "cell_type": "code",
   "execution_count": 1,
   "metadata": {},
   "outputs": [],
   "source": [
    "import tempfile\n",
    "\n",
    "import boto3\n",
    "import matplotlib.pyplot as plt\n",
    "import netCDF4\n",
    "import xarray as xr\n",
    "\n",
    "S3_BUCKET = \"noaa-goes16\"  # open-source from NOAA\n",
    "TEST_KEY = \"ABI-L1b-RadM/2019/001/00/OR_ABI-L1b-RadM1-M3C01_G16_s20190010000265_e20190010000323_c20190010000363.nc\" # ABI-L1b-RadM sensor, first hour-day of 2019\n",
    "\n",
    "s3 = boto3.client(\"s3\")"
   ]
  },
  {
   "cell_type": "markdown",
   "metadata": {},
   "source": [
    "## Downloading\n",
    "\n",
    "One can access NOAA's publicly-accessible data set at their [s3 bucket](https://s3.console.aws.amazon.com/s3/buckets/noaa-goes16/?region=us-west-2&tab=overview). Specifically, we are interested in data from the `ABI-L1b-RadM` sensor, which is organized into `<year>/<day of year>/<hour of day>/<file>.nc`. As the file extension suggests, these files are in NetCDF format. \n",
    "\n",
    "A typical path is: `noaa-goes16/ABI-L1b-RadM/2019/001/00/OR_ABI-L1b-RadM1-M3C01_G16_s20190010000265_e20190010000323_c20190010000363.nc`:\n",
    "\n",
    "- noaa-goes16 (bucket name)\n",
    "- ABI-L1b-RadM (sensor on the satellite)\n",
    "- 2019 (year)\n",
    "- 001 (day of year)\n",
    "- 00 (hour of day)\n",
    "- OR (real-time data)\n",
    "- ABI (sensor type)\n",
    "- L1b (processing level -- L1b or L2)\n",
    "- Rad (radians)\n",
    "- M1 (mesoscale region 1)\n",
    "- M3 (mode 3)\n",
    "- C05 (channel 5 -- 01 through 16)\n",
    "- G16 (GOES-16 satellite)\n",
    "- s20190010000265 (scan start time)\n",
    "- e20190010000323 (scan end time)\n",
    "- c20190010000363 (file creation time)\n",
    "- .nc (nedCDF file extension)\n",
    "\n",
    "\n",
    "For more information, refer to https://docs.opendata.aws/noaa-goes16/cics-readme.html. "
   ]
  },
  {
   "cell_type": "code",
   "execution_count": 2,
   "metadata": {},
   "outputs": [],
   "source": [
    "with tempfile.NamedTemporaryFile() as file_path:\n",
    "    s3.download_file(Bucket=S3_BUCKET, Key=TEST_KEY, Filename=file_path.name)\n",
    "    array = xr.open_dataset(file_path.name)"
   ]
  },
  {
   "cell_type": "code",
   "execution_count": 3,
   "metadata": {},
   "outputs": [
    {
     "data": {
      "image/png": "[encoded data removed]",
      "text/plain": [
       "<Figure size 432x288 with 1 Axes>"
      ]
     },
     "metadata": {
      "needs_background": "light"
     },
     "output_type": "display_data"
    }
   ],
   "source": [
    "plt.imshow(array.Rad);"
   ]
  }
 ],
 "metadata": {
  "kernelspec": {
   "display_name": "goes3.6",
   "language": "python",
   "name": "goes3_6"
  },
  "language_info": {
   "codemirror_mode": {
    "name": "ipython",
    "version": 3
   },
   "file_extension": ".py",
   "mimetype": "text/x-python",
   "name": "python",
   "nbconvert_exporter": "python",
   "pygments_lexer": "ipython3",
   "version": "3.6.9"
  }
 },
 "nbformat": 4,
 "nbformat_minor": 2
}
