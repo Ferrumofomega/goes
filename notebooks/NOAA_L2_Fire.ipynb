{
 "cells": [
  {
   "cell_type": "markdown",
   "metadata": {},
   "source": [
    "## Explore NOAA L2b Wildfire Product (ABI-L2-FDCF)"
   ]
  },
  {
   "cell_type": "code",
   "execution_count": null,
   "metadata": {},
   "outputs": [],
   "source": [
    "import xarray as xr\n",
    "import matplotlib.pyplot as plt\n",
    "import numpy as np\n",
    "import os, sys\n",
    "\n",
    "sys.path.append('../wildfire/')\n",
    "from wildfire import wildfire\n",
    "from wildfire.goes import utilities, scan"
   ]
  },
  {
   "cell_type": "markdown",
   "metadata": {},
   "source": [
    "### Read L2 File"
   ]
  },
  {
   "cell_type": "code",
   "execution_count": null,
   "metadata": {},
   "outputs": [],
   "source": [
    "year = 2019\n",
    "dayofyear = 260\n",
    "hour = 19\n",
    "\n",
    "l2_path = f'/nobackupp10/tvandal/data/goes16/ABI-L2-FDCF/{year}/{dayofyear}/{hour}/'\n",
    "\n",
    "l2_file_path = os.path.join(l2_path, os.listdir(l2_path)[0])\n",
    "\n",
    "ds = xr.open_dataset(l2_file_path)\n",
    "print(ds.attrs['summary'])\n",
    "print(f\"Number of fires: {ds['total_number_of_pixels_with_fires_detected'].values}\")"
   ]
  },
  {
   "cell_type": "code",
   "execution_count": null,
   "metadata": {},
   "outputs": [],
   "source": [
    "ds"
   ]
  },
  {
   "cell_type": "code",
   "execution_count": null,
   "metadata": {},
   "outputs": [],
   "source": [
    "def extract_patches_2d(arr, height, width, stride):\n",
    "    assert len(arr.shape) >= 2\n",
    "    H, W = arr.shape[:2]\n",
    "    ih = np.arange(0,H,stride)\n",
    "    iw = np.arange(0,W,stride)\n",
    "    patches = []\n",
    "    for i in ih:\n",
    "        i = min(i, H-height)\n",
    "        for j in iw:\n",
    "            j = min(j, W-width)\n",
    "            patches.append(arr[i:i+height, j:j+height][np.newaxis])\n",
    "    return np.concatenate(patches)"
   ]
  },
  {
   "cell_type": "markdown",
   "metadata": {},
   "source": [
    "### Histogram of Fire Temperatures and Random Wildfire Plot"
   ]
  },
  {
   "cell_type": "code",
   "execution_count": null,
   "metadata": {},
   "outputs": [],
   "source": [
    "vals = ds.Temp.values\n",
    "vmin = np.nanmin(vals)\n",
    "vmax = np.nanmax(vals)\n",
    "vals_flat = vals.flatten()\n",
    "vals_flat = vals_flat[np.isfinite(vals_flat)]\n",
    "print(np.histogram(vals_flat))\n",
    "\n",
    "patches = extract_patches_2d(vals, 16, 16, 16)\n",
    "fire_patches = patches[np.any(np.isfinite(patches), axis=(1,2))]\n",
    "print(fire_patches.shape)\n",
    "i = np.random.randint(0, len(fire_patches))\n",
    "plt.imshow(fire_patches[i])"
   ]
  },
  {
   "cell_type": "markdown",
   "metadata": {},
   "source": [
    "### Read in L1b Radiances"
   ]
  },
  {
   "cell_type": "code",
   "execution_count": null,
   "metadata": {},
   "outputs": [],
   "source": [
    "# load scan and get wildfire map\n",
    "#\n",
    "l1_dir = f'/nex/datapool/geonex/public/GOES16/NOAA-L1B/ABI-L1b-RadF/{year}/{dayofyear}/{hour}/'\n",
    "files = [os.path.join(l1_dir, f) for f in sorted(os.listdir(l1_dir))]\n",
    "filepaths = utilities.group_filepaths_into_scans(files)\n",
    "goes_scan = scan.read_netcdfs(local_filepaths=filepaths[0])"
   ]
  },
  {
   "cell_type": "code",
   "execution_count": null,
   "metadata": {},
   "outputs": [],
   "source": [
    "goes_scan.plot(bands=[1,2,3])"
   ]
  },
  {
   "cell_type": "code",
   "execution_count": null,
   "metadata": {},
   "outputs": [],
   "source": [
    "goes_scan_2km = goes_scan.rescale_to_500m() # this method is misnamed in scan.py\n",
    "datasets = []\n",
    "band16 = goes_scan_2km['band_16']\n",
    "for band, s in goes_scan_2km.iteritems():\n",
    "    d = s.dataset\n",
    "    d = d.assign_coords(x=band16.dataset.x.values,\n",
    "                        y=band16.dataset.y.values)\n",
    "    datasets.append(d['Rad'])\n",
    "    \n",
    "l1ds = xr.concat(datasets, 'band')"
   ]
  },
  {
   "cell_type": "markdown",
   "metadata": {},
   "source": [
    "### Join L1b and L2 Fire Data and Extract Patches"
   ]
  },
  {
   "cell_type": "code",
   "execution_count": null,
   "metadata": {},
   "outputs": [],
   "source": [
    "alldata = np.concatenate([l1ds.values, ds.Temp.values[np.newaxis]], 0)\n",
    "alldata = np.transpose(alldata, (1,2,0))\n",
    "alldata_patches = extract_patches_2d(alldata, 16, 16, 16)\n",
    "print(alldata_patches.shape)\n",
    "\n",
    "fire_idxs = np.any(np.isfinite(alldata_patches[:,:,:,-1]), axis=(1,2))\n",
    "alldata_fire_patches = alldata_patches[fire_idxs]\n",
    "alldata_fire_patches.shape"
   ]
  },
  {
   "cell_type": "markdown",
   "metadata": {},
   "source": [
    "### Show RGB, Band 15 Temp, and L2 Fire Temp"
   ]
  },
  {
   "cell_type": "code",
   "execution_count": null,
   "metadata": {},
   "outputs": [],
   "source": [
    "#i = np.random.randint(0, len(alldata_fire_patches))\n",
    "i = 212\n",
    "\n",
    "fig, axs = plt.subplots(1,3,figsize=(12,5))\n",
    "axs = np.ravel(axs)\n",
    "#[a.axis('off') for a in axs]\n",
    "\n",
    "axs[2].imshow(alldata_fire_patches[i,:,:,-1])\n",
    "axs[2].set_title(\"NOAA L2b Fire Temperature\")\n",
    "\n",
    "rgb = alldata_fire_patches[i,:,:,[1,2,0]]\n",
    "rgb = np.transpose(rgb, (1,2,0))\n",
    "mn = np.nanmin(rgb)\n",
    "mx = np.nanmax(rgb)\n",
    "rgb = (rgb - mn) / (mx - mn)\n",
    "axs[0].imshow(rgb)\n",
    "axs[0].set_title(\"False Color RGB\")\n",
    "\n",
    "axs[1].imshow(alldata_fire_patches[i,:,:,14])\n",
    "axs[1].set_title(\"Band 15 - Brightness Temp\")"
   ]
  },
  {
   "cell_type": "code",
   "execution_count": null,
   "metadata": {},
   "outputs": [],
   "source": []
  }
 ],
 "metadata": {
  "kernelspec": {
   "display_name": "Python 3",
   "language": "python",
   "name": "python3"
  },
  "language_info": {
   "codemirror_mode": {
    "name": "ipython",
    "version": 3
   },
   "file_extension": ".py",
   "mimetype": "text/x-python",
   "name": "python",
   "nbconvert_exporter": "python",
   "pygments_lexer": "ipython3",
   "version": "3.7.6"
  }
 },
 "nbformat": 4,
 "nbformat_minor": 4
}
